{
 "cells": [
  {
   "cell_type": "markdown",
   "id": "07bfe38f-7fcd-4820-87ab-c2a1bf8e3113",
   "metadata": {},
   "source": [
    "# Introduction"
   ]
  },
  {
   "cell_type": "markdown",
   "id": "dd7dd0d3-c85d-400c-87ae-f9c5cb8fa483",
   "metadata": {},
   "source": [
    "## Time evolution"
   ]
  },
  {
   "cell_type": "markdown",
   "id": "251f4a68-f7b3-4073-bf9f-4da979074afa",
   "metadata": {},
   "source": [
    "#### Describing how any quantum system evolves in time is determined by an initial state $\\ket{\\psi_0}$ and a Hamiltonian, $2^n \\times 2^n$ Hermitean matrix. The state at a later time is calculated using the time-dependent Schrödinger equation:\n",
    "#### $i \\hbar \\frac{\\partial\\ket{\\psi(t)}}{\\partial t} = H $$\\ket{\\psi(t)}$\n",
    "#### This can be solved on a general form such that the state after a time t is given by\n",
    "#### $\\ket{\\psi(t)} = e^{-iHt} \\ket{\\psi(0)}$\n",
    "#### Here $\\ket{\\psi(0)}$ is the initial state you start from. This is a powerful equation that can simulate time evolution of quantum systems. However, the process quite quickly breakdown as the size of the Hamiltonian and by extension the states become to large to be simulated on computers. Quantum computers have some algorithms that can help with this scaling problem, but the Hamiltonian might be extre"
   ]
  },
  {
   "cell_type": "markdown",
   "id": "6e01b530-2178-4178-93ed-c7422bcdc52d",
   "metadata": {},
   "source": [
    "## Trotter decomposition"
   ]
  },
  {
   "cell_type": "markdown",
   "id": "e51a46c1-7a52-4052-a5c2-f2cf7299daca",
   "metadata": {},
   "source": [
    "### Here I describe the basic of decomposing Hamiltonians using the Trotter method."
   ]
  },
  {
   "cell_type": "markdown",
   "id": "4286f619-e5fc-4004-bce6-f39caeacea57",
   "metadata": {},
   "source": [
    "# Initialising packages and functions"
   ]
  },
  {
   "cell_type": "code",
   "execution_count": null,
   "id": "511859ec-6bc7-4427-a0fa-e466ce5a1e2c",
   "metadata": {},
   "outputs": [],
   "source": []
  },
  {
   "cell_type": "markdown",
   "id": "55c1dc16-4c0b-44e6-8fac-a144a9edd093",
   "metadata": {},
   "source": [
    "# Simulations and plots"
   ]
  },
  {
   "cell_type": "code",
   "execution_count": null,
   "id": "5ec3352a-89af-4e1e-a407-d36c4bc0259b",
   "metadata": {},
   "outputs": [],
   "source": []
  },
  {
   "cell_type": "markdown",
   "id": "d0b090e6-fff3-4eab-9dd3-cdd093392987",
   "metadata": {},
   "source": [
    "# Discussion and conclussion"
   ]
  },
  {
   "cell_type": "code",
   "execution_count": null,
   "id": "550167c1-bad6-4c74-b048-4b75fd1f373a",
   "metadata": {},
   "outputs": [],
   "source": []
  }
 ],
 "metadata": {
  "kernelspec": {
   "display_name": "Python 3 (ipykernel)",
   "language": "python",
   "name": "python3"
  },
  "language_info": {
   "codemirror_mode": {
    "name": "ipython",
    "version": 3
   },
   "file_extension": ".py",
   "mimetype": "text/x-python",
   "name": "python",
   "nbconvert_exporter": "python",
   "pygments_lexer": "ipython3",
   "version": "3.13.5"
  }
 },
 "nbformat": 4,
 "nbformat_minor": 5
}
