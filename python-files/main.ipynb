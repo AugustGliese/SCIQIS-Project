{
 "cells": [
  {
   "cell_type": "markdown",
   "id": "07bfe38f-7fcd-4820-87ab-c2a1bf8e3113",
   "metadata": {},
   "source": [
    "# Introduction"
   ]
  },
  {
   "cell_type": "markdown",
   "id": "dd7dd0d3-c85d-400c-87ae-f9c5cb8fa483",
   "metadata": {},
   "source": [
    "## Time evolution"
   ]
  },
  {
   "cell_type": "markdown",
   "id": "251f4a68-f7b3-4073-bf9f-4da979074afa",
   "metadata": {},
   "source": [
    "### Here I describe the basic of time evolution for quantum systems."
   ]
  },
  {
   "cell_type": "markdown",
   "id": "6e01b530-2178-4178-93ed-c7422bcdc52d",
   "metadata": {},
   "source": [
    "## Trotter decomposition"
   ]
  },
  {
   "cell_type": "markdown",
   "id": "e51a46c1-7a52-4052-a5c2-f2cf7299daca",
   "metadata": {},
   "source": [
    "### Here I describe the basic of decomposing Hamiltonians using the Trotter method."
   ]
  },
  {
   "cell_type": "markdown",
   "id": "4286f619-e5fc-4004-bce6-f39caeacea57",
   "metadata": {},
   "source": [
    "# Initialising packages and functions"
   ]
  },
  {
   "cell_type": "code",
   "execution_count": null,
   "id": "511859ec-6bc7-4427-a0fa-e466ce5a1e2c",
   "metadata": {},
   "outputs": [],
   "source": []
  },
  {
   "cell_type": "markdown",
   "id": "55c1dc16-4c0b-44e6-8fac-a144a9edd093",
   "metadata": {},
   "source": [
    "# Simulations and plots"
   ]
  },
  {
   "cell_type": "code",
   "execution_count": null,
   "id": "5ec3352a-89af-4e1e-a407-d36c4bc0259b",
   "metadata": {},
   "outputs": [],
   "source": []
  },
  {
   "cell_type": "markdown",
   "id": "d0b090e6-fff3-4eab-9dd3-cdd093392987",
   "metadata": {},
   "source": [
    "# Discussion and conclussion"
   ]
  },
  {
   "cell_type": "code",
   "execution_count": null,
   "id": "550167c1-bad6-4c74-b048-4b75fd1f373a",
   "metadata": {},
   "outputs": [],
   "source": []
  }
 ],
 "metadata": {
  "kernelspec": {
   "display_name": "Python 3 (ipykernel)",
   "language": "python",
   "name": "python3"
  },
  "language_info": {
   "codemirror_mode": {
    "name": "ipython",
    "version": 3
   },
   "file_extension": ".py",
   "mimetype": "text/x-python",
   "name": "python",
   "nbconvert_exporter": "python",
   "pygments_lexer": "ipython3",
   "version": "3.13.5"
  }
 },
 "nbformat": 4,
 "nbformat_minor": 5
}
