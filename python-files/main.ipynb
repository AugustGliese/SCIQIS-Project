{
 "cells": [
  {
   "cell_type": "markdown",
   "id": "07bfe38f-7fcd-4820-87ab-c2a1bf8e3113",
   "metadata": {},
   "source": [
    "# Introduction"
   ]
  },
  {
   "cell_type": "markdown",
   "id": "dd7dd0d3-c85d-400c-87ae-f9c5cb8fa483",
   "metadata": {},
   "source": [
    "## Time evolution"
   ]
  },
  {
   "cell_type": "markdown",
   "id": "251f4a68-f7b3-4073-bf9f-4da979074afa",
   "metadata": {},
   "source": [
    "#### Describing how any quantum system evolves in time is determined by an initial state $\\ket{\\psi_0}$ and a Hamiltonian, $2^n \\times 2^n$ Hermitean matrix. The state at a later time is calculated using the time-dependent Schrödinger equation:\n",
    "#### $i \\hbar \\frac{\\partial\\ket{\\psi(t)}}{\\partial t} = H $$\\ket{\\psi(t)}$\n",
    "#### This can be solved on a general form such that the state after a time t is given by\n",
    "#### $\\ket{\\psi(t)} = e^{-iHt} \\ket{\\psi(0)}$\n",
    "#### Here $\\ket{\\psi(0)}$ is the initial state you start from. This is a powerful equation that can simulate time evolution of quantum systems. However, the process quite quickly breakdown as the size of the Hamiltonian and by extension the states become to large to be simulated on computers. Quantum computers have some algorithms that can help with this scaling problem, but the Hamiltonian might be extremely complicated to implement as an unitary operation. In the following we will go through Trotter decomposition that approximates the Hamiltonians used in time evolution."
   ]
  },
  {
   "cell_type": "markdown",
   "id": "6e01b530-2178-4178-93ed-c7422bcdc52d",
   "metadata": {},
   "source": [
    "## Trotter decomposition"
   ]
  },
  {
   "cell_type": "markdown",
   "id": "e51a46c1-7a52-4052-a5c2-f2cf7299daca",
   "metadata": {},
   "source": [
    "#### The Trotter decomposition is a method to decompose an expotential function of the sum of square matrices into a product of expotential function of square matrices. The first order Trotter formula is given by:\n",
    "#### $e^{A+B} = \\lim_{n\\rightarrow} (e^\\frac{A}{n}e^\\frac{B}{n})^n$\n",
    "#### This method can be done to different degrees of precision, the first order Trotter approximation of two square matrices A and B is given by:\n",
    "#### $e^{\\delta(A+B)} = e^{\\delta A} e^{\\delta B} + \\mathcal{O}(\\delta^2)$\n",
    "#### The error term is needed since the matrices A and B do not necessarily commute. This approximation is very useful in Hamiltonian simulation since Hamiltonian usaully consists of a sum of non-commuting terms. The error term can be surpressed by increasing the number of times these expotential function are multiplied together, such that:\n",
    "#### $e^{\\delta(A+B)} = (e^{\\delta \\frac{A}{n}} e^{\\delta \\frac{B}{n}} + \\mathcal{O}((\\frac{\\delta}{n})^2)^n$\n",
    "#### The error term can then be made arbritrarily small by simply increasing the number n, although that of course increases the depth of the circuit."
   ]
  },
  {
   "cell_type": "markdown",
   "id": "b788c27d-9869-4cba-a2aa-a3c4debe9b94",
   "metadata": {},
   "source": [
    "#### In a specific case of the 1D Ising model, where $H = J \\sum_{i=0}^m Z_i Z_{i+1}$ and m is the number of sites in the system. For this case the time evolution operator is given by:\n",
    "#### $e^{-iHt} = e^{-i J \\sum_{i=0}^m (Z_i Z_{i+1}) t} \\approx (\\Pi_i^m e^{-iJZ_i \\frac{t}{n}} e^{-iJZ_{i+1} \\frac{t}{n}})^n$\n",
    "#### Here we see how this approximation works by turning the complicated Ising model time evolution operator into a product of individual time evolution operators that can be implemented in series. That is the large m qubit operator can be turned into a product of n 2 qubit operators."
   ]
  },
  {
   "cell_type": "markdown",
   "id": "4286f619-e5fc-4004-bce6-f39caeacea57",
   "metadata": {},
   "source": [
    "# Initialising packages and functions"
   ]
  },
  {
   "cell_type": "code",
   "execution_count": 1,
   "id": "511859ec-6bc7-4427-a0fa-e466ce5a1e2c",
   "metadata": {},
   "outputs": [],
   "source": [
    "import numpy as np\n",
    "from scipy.linalg import expm\n",
    "import matplotlib.pyplot as plt\n",
    "from functools import reduce"
   ]
  },
  {
   "cell_type": "code",
   "execution_count": 2,
   "id": "9eaa3a30-1592-4861-b2da-984fef48beb4",
   "metadata": {},
   "outputs": [],
   "source": [
    "def kron_all(*gates):\n",
    "    \"\"\"\n",
    "    Computes the Kronecker product of multiple gates.\n",
    "    Flattens nested lists of gates automatically.\n",
    "    \n",
    "    Example:\n",
    "        kron_all([[A, B], C]) -> np.kron(np.kron(A, B), C)\n",
    "    \"\"\"\n",
    "    # Flatten the input\n",
    "    flat = []\n",
    "    for g in gates:\n",
    "        if isinstance(g, list):\n",
    "            flat.extend(g)\n",
    "        else:\n",
    "            flat.append(g)\n",
    "    # Compute Kronecker product\n",
    "    return reduce(np.kron, flat)\n",
    "\n",
    "def gate_pow(gate, n):\n",
    "    \"\"\"\n",
    "    Returns a list of 'gate' repeated n times.\n",
    "    If you want the actual Kronecker product of the gate with itself n times,\n",
    "    you can use `kron_all([gate]*n)` instead.\n",
    "    \"\"\"\n",
    "    return [gate] * n"
   ]
  },
  {
   "cell_type": "code",
   "execution_count": 9,
   "id": "372943ea-5ac8-4e04-bbfc-0ee701b9aad9",
   "metadata": {},
   "outputs": [],
   "source": [
    "class QuantumCircuit:\n",
    "    def __init__(self, n):\n",
    "        '''\n",
    "        Initialises a quantum circuit in the 0 state with n qubits\n",
    "        '''\n",
    "        self.n = n\n",
    "        self.state = np.zeros(2**n, dtype=np.complex128)\n",
    "        self.state[0] = 1.0\n",
    "\n",
    "    def __repr__(self):\n",
    "        '''\n",
    "        Makes itself printable\n",
    "        '''\n",
    "        return f\"Statevector=\\n{self.state}\"\n",
    "\n",
    "    def one_gate(self, gate, n):\n",
    "        '''\n",
    "        Apply any gate to qubit n in circuit\n",
    "        '''\n",
    "        I = np.identity(2)                #identity\n",
    "        q = int(np.log2(len(self.state))) #number of qubits\n",
    "\n",
    "        #tensor product between identity and gate to broadcast to circuit size\n",
    "        operator = kron_all(\n",
    "            gate_pow(I, n),\n",
    "            gate,\n",
    "            gate_pow(I, q - n -1) \n",
    "        ) \n",
    "\n",
    "        self.state = operator @ self.state\n",
    "\n",
    "    def measure(self, n):\n",
    "        '''\n",
    "        Measure qubit n in z basis\n",
    "        '''\n",
    "        I = np.identity(2)                #identity\n",
    "        zero = np.array([1, 0])           #zero state\n",
    "        one = np.array([0,1])             #one state\n",
    "        rng = np.random.default_rng()     #setup random number generator\n",
    "        q = int(np.log2(len(self.state))) #number of qubits\n",
    "\n",
    "        #projector onto the 0 state \n",
    "        projector_0 = kron_all(\n",
    "            gate_pow(I, n), \n",
    "            np.outer(zero, zero), \n",
    "            gate_pow(I, q - n - 1)\n",
    "        )\n",
    "\n",
    "        #projector onto the 1 state \n",
    "        projector_1 = kron_all(\n",
    "            gate_pow(I, n),\n",
    "            np.outer(one, one),\n",
    "            gate_pow(I, q - n - 1)\n",
    "            )\n",
    "\n",
    "        state_0 = projector_0 @ self.state\n",
    "        state_1 = projector_1 @ self.state\n",
    "\n",
    "        p = [np.linalg.norm(state_0) ** 2, np.linalg.norm(state_1) ** 2]\n",
    "        \n",
    "        output = rng.choice((0,1), p = p)\n",
    "        if output:\n",
    "            self.state = state_1 / np.sqrt(p[1])\n",
    "        else:\n",
    "            self.state = state_0 / np.sqrt(p[0])\n",
    "        print(f\"Qubit {n} is measured to be {output}, congratulations!\")\n",
    "        return output"
   ]
  },
  {
   "cell_type": "code",
   "execution_count": 11,
   "id": "065f71d2-a63c-4fe5-9a9a-27933a27feba",
   "metadata": {},
   "outputs": [
    {
     "name": "stdout",
     "output_type": "stream",
     "text": [
      "Qubit 0 is measured to be 0, congratulations!\n",
      "Statevector=\n",
      "[1.+0.j 0.+0.j 0.+0.j 0.+0.j]\n"
     ]
    }
   ],
   "source": [
    "qc = QuantumCircuit(2)\n",
    "X = np.array([[0,1],[1,0]])\n",
    "H = 1/np.sqrt(2) * np.array([[1,1],[1,-1]])\n",
    "\n",
    "qc.one_gate(X, 0)\n",
    "qc.one_gate(H, 0)\n",
    "output = qc.measure(0)\n",
    "print(qc)"
   ]
  },
  {
   "cell_type": "markdown",
   "id": "55c1dc16-4c0b-44e6-8fac-a144a9edd093",
   "metadata": {},
   "source": [
    "# Simulations and plots"
   ]
  },
  {
   "cell_type": "code",
   "execution_count": null,
   "id": "5ec3352a-89af-4e1e-a407-d36c4bc0259b",
   "metadata": {},
   "outputs": [],
   "source": []
  },
  {
   "cell_type": "markdown",
   "id": "d0b090e6-fff3-4eab-9dd3-cdd093392987",
   "metadata": {},
   "source": [
    "# Discussion and conclussion"
   ]
  },
  {
   "cell_type": "code",
   "execution_count": null,
   "id": "550167c1-bad6-4c74-b048-4b75fd1f373a",
   "metadata": {},
   "outputs": [],
   "source": []
  }
 ],
 "metadata": {
  "kernelspec": {
   "display_name": "Python 3 (ipykernel)",
   "language": "python",
   "name": "python3"
  },
  "language_info": {
   "codemirror_mode": {
    "name": "ipython",
    "version": 3
   },
   "file_extension": ".py",
   "mimetype": "text/x-python",
   "name": "python",
   "nbconvert_exporter": "python",
   "pygments_lexer": "ipython3",
   "version": "3.13.5"
  }
 },
 "nbformat": 4,
 "nbformat_minor": 5
}
